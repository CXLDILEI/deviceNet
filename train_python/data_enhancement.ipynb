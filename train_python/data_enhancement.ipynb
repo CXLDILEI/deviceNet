{
 "cells": [
  {
   "cell_type": "code",
   "execution_count": 21,
   "metadata": {},
   "outputs": [],
   "source": [
    "import numpy as np\n",
    "import tensorflow as tf\n",
    "import matplotlib.pyplot as plt\n",
    "from matplotlib.pyplot import imshow\n",
    "import os"
   ]
  },
  {
   "cell_type": "code",
   "execution_count": 22,
   "metadata": {},
   "outputs": [],
   "source": [
    "in_path = '../dataset/source/'\n",
    "out_path = '../output/'\n",
    "train_ptah = '../dataset/train/'\n",
    "img_len = 0"
   ]
  },
  {
   "cell_type": "code",
   "execution_count": 23,
   "metadata": {},
   "outputs": [],
   "source": [
    "total_file = []\n",
    "def read_file_len():\n",
    "    files= os.listdir(in_path)\n",
    "    for file in files:\n",
    "        dir_path = os.path.join(in_path,file)\n",
    "        if os.path.isdir(dir_path):\n",
    "            child_files = os.listdir(dir_path)\n",
    "            for f in child_files:\n",
    "                total_file.append(f)\n",
    "        else:\n",
    "            total_file.append(file)\n",
    "read_file_len()\n",
    "img_len = len(total_file)"
   ]
  },
  {
   "cell_type": "code",
   "execution_count": 24,
   "metadata": {},
   "outputs": [
    {
     "name": "stdout",
     "output_type": "stream",
     "text": [
      "Found 13 images belonging to 4 classes.\n"
     ]
    }
   ],
   "source": [
    "def resize():\n",
    "    datagen = tf.keras.preprocessing.image.ImageDataGenerator()\n",
    "    gen_data = datagen.flow_from_directory(in_path, batch_size=1,shuffle=False,save_to_dir=out_path+'resize',save_prefix='resize',target_size=(244,244),save_format='jpg')\n",
    "    gen_data.next()\n",
    "    for i in range(img_len):\n",
    "        gen_data.next()\n",
    "# resize()\n"
   ]
  },
  {
   "cell_type": "code",
   "execution_count": 25,
   "metadata": {},
   "outputs": [
    {
     "name": "stdout",
     "output_type": "stream",
     "text": [
      "Found 13 images belonging to 4 classes.\n"
     ]
    }
   ],
   "source": [
    "def rotation_range():\n",
    "    datagen = tf.keras.preprocessing.image.ImageDataGenerator(rotation_range=3)\n",
    "    gen_data = datagen.flow_from_directory(in_path, batch_size=1,shuffle=False,save_to_dir=out_path+'rotation_range',save_prefix='rotation_range',target_size=(244,244),save_format='jpg')\n",
    "    gen_data.next()\n",
    "    for i in range(img_len):\n",
    "        gen_data.next()\n",
    "# rotation_range()"
   ]
  },
  {
   "cell_type": "code",
   "execution_count": 26,
   "metadata": {},
   "outputs": [
    {
     "name": "stdout",
     "output_type": "stream",
     "text": [
      "Found 13 images belonging to 4 classes.\n"
     ]
    }
   ],
   "source": [
    "def zoom_range():\n",
    "    datagen = tf.keras.preprocessing.image.ImageDataGenerator(zoom_range=0.2)\n",
    "    gen_data = datagen.flow_from_directory(in_path, batch_size=1,shuffle=False,save_to_dir=out_path+'zoom_range',save_prefix='zoom_range',target_size=(244,244),save_format='jpg')\n",
    "    gen_data.next()\n",
    "    for i in range(img_len):\n",
    "        gen_data.next()\n",
    "\n",
    "# zoom_range()"
   ]
  },
  {
   "cell_type": "code",
   "execution_count": 27,
   "metadata": {},
   "outputs": [
    {
     "name": "stdout",
     "output_type": "stream",
     "text": [
      "Found 13 images belonging to 4 classes.\n"
     ]
    }
   ],
   "source": [
    "def shear_range():\n",
    "    datagen = tf.keras.preprocessing.image.ImageDataGenerator(shear_range=0.9)\n",
    "    gen_data = datagen.flow_from_directory(in_path, batch_size=1,shuffle=False,save_to_dir=out_path+'shear_range',save_prefix='shear_range',target_size=(244,244),save_format='jpg')\n",
    "    gen_data.next()\n",
    "    for i in range(img_len):\n",
    "        gen_data.next()\n",
    "# shear_range()"
   ]
  },
  {
   "cell_type": "code",
   "execution_count": 28,
   "metadata": {},
   "outputs": [
    {
     "name": "stdout",
     "output_type": "stream",
     "text": [
      "Found 13 images belonging to 4 classes.\n"
     ]
    }
   ],
   "source": [
    "def horizontal_flip():\n",
    "    datagen = tf.keras.preprocessing.image.ImageDataGenerator(horizontal_flip=True)\n",
    "    gen_data = datagen.flow_from_directory(in_path, batch_size=1,shuffle=False,save_to_dir=out_path+'horizontal_flip',save_prefix='horizontal_flip',target_size=(244,244),save_format='jpg')\n",
    "    gen_data.next()\n",
    "    for i in range(img_len):\n",
    "        gen_data.next()\n",
    "\n",
    "# horizontal_flip()"
   ]
  },
  {
   "cell_type": "code",
   "execution_count": 29,
   "metadata": {},
   "outputs": [
    {
     "name": "stdout",
     "output_type": "stream",
     "text": [
      "Found 13 images belonging to 4 classes.\n"
     ]
    }
   ],
   "source": [
    "def vertical_flip():\n",
    "    datagen = tf.keras.preprocessing.image.ImageDataGenerator(vertical_flip=True)\n",
    "    gen_data = datagen.flow_from_directory(in_path, batch_size=1,shuffle=False,save_to_dir=out_path+'vertical_flip',save_prefix='vertical_flip',target_size=(244,244),save_format='jpg')\n",
    "    gen_data.next()\n",
    "    for i in range(img_len):\n",
    "        gen_data.next()\n",
    "\n",
    "# vertical_flip()"
   ]
  },
  {
   "cell_type": "code",
   "execution_count": 48,
   "metadata": {},
   "outputs": [
    {
     "name": "stdout",
     "output_type": "stream",
     "text": [
      "Found 13 images belonging to 4 classes.\n"
     ]
    }
   ],
   "source": [
    "def gen_source_data():\n",
    "    datagen = tf.keras.preprocessing.image.ImageDataGenerator(vertical_flip=True,\n",
    "                                                              rotation_range=20, #旋转范围\n",
    "                                                              width_shift_range=0.2, #水平平移范围\n",
    "                                                              height_shift_range=0.2, #垂直平移范围\n",
    "                                                              shear_range=0.1, #剪切变换的程度\n",
    "                                                              zoom_range=0.2, #缩放范围\n",
    "                                                              horizontal_flip=True,  #水平翻转\n",
    "                                                            )\n",
    "    gen_data = datagen.flow_from_directory(in_path, batch_size=1,shuffle=False,save_to_dir=out_path+'gen',save_prefix='gen',target_size=(244,244),save_format='jpg')\n",
    "    gen_data.next()\n",
    "    for i in range(img_len):\n",
    "        gen_data.next()\n",
    "gen_source_data()"
   ]
  },
  {
   "cell_type": "code",
   "execution_count": 40,
   "metadata": {},
   "outputs": [
    {
     "name": "stdout",
     "output_type": "stream",
     "text": [
      "13\n",
      "Found 616 images belonging to 4 classes.\n"
     ]
    }
   ],
   "source": [
    "train_total_file = []\n",
    "def read_file_len():\n",
    "    files= os.listdir(train_ptah)\n",
    "    for file in files:\n",
    "        dir_path = os.path.join(train_ptah,file)\n",
    "        if os.path.isdir(dir_path):\n",
    "            child_files = os.listdir(dir_path)\n",
    "            for f in child_files:\n",
    "                train_total_file.append(f)\n",
    "        else:\n",
    "            train_total_file.append(file)\n",
    "read_file_len()\n",
    "train_len = len(train_total_file)\n",
    "print(train_len)\n",
    "def genTrainData():\n",
    "    datagen = tf.keras.preprocessing.image.ImageDataGenerator(vertical_flip=True,\n",
    "                                                              rotation_range=270, #旋转范围\n",
    "                                                              width_shift_range=0.01, #水平平移范围\n",
    "                                                              height_shift_range=0.01, #垂直平移范围\n",
    "                                                              shear_range=0.01, #剪切变换的程度\n",
    "                                                              zoom_range=0.02, #缩放范围\n",
    "                                                              horizontal_flip=True,  #水平翻转\n",
    "                                                              )\n",
    "    gen_data = datagen.flow_from_directory(train_ptah, batch_size=1,shuffle=False,save_to_dir=out_path+'gen',save_prefix='gen',target_size=(244,244),save_format='jpg')\n",
    "    # gen_data.next()\n",
    "    for i in range(train_len):\n",
    "        gen_data.next()\n",
    "genTrainData()"
   ]
  }
 ],
 "metadata": {
  "kernelspec": {
   "display_name": "Python 3",
   "language": "python",
   "name": "python3"
  },
  "language_info": {
   "codemirror_mode": {
    "name": "ipython",
    "version": 3
   },
   "file_extension": ".py",
   "mimetype": "text/x-python",
   "name": "python",
   "nbconvert_exporter": "python",
   "pygments_lexer": "ipython3",
   "version": "3.11.5"
  },
  "orig_nbformat": 4
 },
 "nbformat": 4,
 "nbformat_minor": 2
}
